{
 "cells": [
  {
   "cell_type": "markdown",
   "id": "2b7be962-555a-4af5-b0ec-5f4e869dc8b3",
   "metadata": {},
   "source": [
    "# Personal Expenses Tracker\n",
    "\n",
    "## Welcome to Your First Python Project 🎉"
   ]
  },
  {
   "cell_type": "code",
   "execution_count": 2,
   "id": "46043fef-8b13-493c-968d-d1e244bf2f2d",
   "metadata": {},
   "outputs": [
    {
     "name": "stdout",
     "output_type": "stream",
     "text": [
      "Personal Expenxes Tracker\n"
     ]
    }
   ],
   "source": [
    "print(\"Personal Expenxes Tracker\")"
   ]
  },
  {
   "cell_type": "markdown",
   "id": "1b856aac-b457-4a16-889f-2a22210981ee",
   "metadata": {},
   "source": [
    "What are we tracking???"
   ]
  },
  {
   "cell_type": "markdown",
   "id": "5692ac17-0456-4b3f-8d22-2e8e6da6e6aa",
   "metadata": {},
   "source": [
    "### Create our variables"
   ]
  },
  {
   "cell_type": "code",
   "execution_count": 17,
   "id": "57a294a5-0cf5-4d80-b17c-89eaef87ae45",
   "metadata": {},
   "outputs": [],
   "source": [
    "owner = \"Ayisha\" # str\n",
    "currency = '$'\n",
    "starting_balance = 500\n",
    "month = \"August\"\n",
    "month_number = 8\n",
    "is_shared_account = True"
   ]
  },
  {
   "cell_type": "code",
   "execution_count": 18,
   "id": "3d7b5d41-1016-4d44-b0c5-1c0d9cad357b",
   "metadata": {},
   "outputs": [
    {
     "name": "stdout",
     "output_type": "stream",
     "text": [
      "Ayisha\n",
      "$\n",
      "500\n",
      "August\n",
      "8\n",
      "True\n"
     ]
    }
   ],
   "source": [
    "print(owner)\n",
    "print(currency)\n",
    "print(starting_balance)\n",
    "print(month)\n",
    "print(month_number)\n",
    "print(is_shared_account)"
   ]
  },
  {
   "cell_type": "code",
   "execution_count": 14,
   "id": "c669e87b-e1a2-4802-894d-3138a720b12d",
   "metadata": {},
   "outputs": [
    {
     "name": "stdout",
     "output_type": "stream",
     "text": [
      "Ayisha\n",
      "<class 'str'>\n"
     ]
    },
    {
     "data": {
      "text/plain": [
       "(None, None)"
      ]
     },
     "execution_count": 14,
     "metadata": {},
     "output_type": "execute_result"
    }
   ],
   "source": [
    "print(owner), print(type(owner))"
   ]
  },
  {
   "cell_type": "code",
   "execution_count": 20,
   "id": "0f1df63c-5e87-4557-a8f0-a3d32c53935a",
   "metadata": {},
   "outputs": [
    {
     "data": {
      "text/plain": [
       "str"
      ]
     },
     "execution_count": 20,
     "metadata": {},
     "output_type": "execute_result"
    }
   ],
   "source": [
    "type(owner)"
   ]
  },
  {
   "cell_type": "code",
   "execution_count": 22,
   "id": "641c7a23-3352-4600-abe0-55a3d5cf0cbc",
   "metadata": {},
   "outputs": [
    {
     "data": {
      "text/plain": [
       "str"
      ]
     },
     "execution_count": 22,
     "metadata": {},
     "output_type": "execute_result"
    }
   ],
   "source": [
    "type(currency)"
   ]
  },
  {
   "cell_type": "code",
   "execution_count": 23,
   "id": "d3000734-78dd-4bb5-8306-d60905db8a2c",
   "metadata": {},
   "outputs": [
    {
     "data": {
      "text/plain": [
       "bool"
      ]
     },
     "execution_count": 23,
     "metadata": {},
     "output_type": "execute_result"
    }
   ],
   "source": [
    "type(is_shared_account)"
   ]
  },
  {
   "cell_type": "code",
   "execution_count": null,
   "id": "fc467f8d-5b90-48ee-a9a5-34b14b38d898",
   "metadata": {},
   "outputs": [],
   "source": []
  },
  {
   "cell_type": "code",
   "execution_count": null,
   "id": "98b83c48-e862-438a-ab14-cb2949e2ffe4",
   "metadata": {},
   "outputs": [],
   "source": []
  },
  {
   "cell_type": "code",
   "execution_count": 19,
   "id": "c511d2aa-ee51-42df-a77b-c8f816210f27",
   "metadata": {},
   "outputs": [
    {
     "name": "stdout",
     "output_type": "stream",
     "text": [
      "<class 'str'> <class 'int'> <class 'bool'>\n"
     ]
    }
   ],
   "source": [
    "print(type(owner), type(starting_balance), type(is_shared_account))"
   ]
  },
  {
   "cell_type": "markdown",
   "id": "df6c5318-954c-411c-bfb6-617f3ae76f20",
   "metadata": {},
   "source": [
    "Fixed Data"
   ]
  },
  {
   "cell_type": "code",
   "execution_count": 63,
   "id": "dd0de274-4d30-4f1e-aa8e-94f93572366b",
   "metadata": {},
   "outputs": [
    {
     "name": "stdout",
     "output_type": "stream",
     "text": [
      "('2025-08-1', '2025-08-31')\n"
     ]
    }
   ],
   "source": [
    "account_date = (\"2025-08-1\", \"2025-08-31\")\n",
    "\n",
    "print(account_date)"
   ]
  },
  {
   "cell_type": "markdown",
   "id": "c5d7308f-af6f-4e26-9196-7c88a48f8163",
   "metadata": {},
   "source": [
    "### Expenses"
   ]
  },
  {
   "cell_type": "code",
   "execution_count": 36,
   "id": "61741bde-7aab-4b01-a895-f363f4cf23d2",
   "metadata": {},
   "outputs": [],
   "source": [
    "expenses_item = [\"Groceries\", \"Bus Fair\", \"Data Plan\", \"Cinema\"]\n",
    "expenses_cost = [5, 20, 50, 25 ]\n",
    "expenses_category = [\"Food\", \"Transportation\", \"Utilities\", \"Liesure\"]\n",
    "is_essential = [True, True, True, False]\n",
    "expenses_date = [\"2025-08-02\", \"2025-08-03\", \"2025-08-03\", \"2025-08-04\"]"
   ]
  },
  {
   "cell_type": "code",
   "execution_count": 30,
   "id": "f49e63fe-8ae0-4987-bada-8a01b3f09595",
   "metadata": {},
   "outputs": [
    {
     "data": {
      "text/plain": [
       "['Groceries', 'Bus Fair', 'Data Plan', 'Cinema']"
      ]
     },
     "execution_count": 30,
     "metadata": {},
     "output_type": "execute_result"
    }
   ],
   "source": [
    "expenses_item"
   ]
  },
  {
   "cell_type": "code",
   "execution_count": 31,
   "id": "297fe842-d2f3-47e4-946e-d9c490b92b0b",
   "metadata": {},
   "outputs": [
    {
     "data": {
      "text/plain": [
       "[5, 20, 50, 25]"
      ]
     },
     "execution_count": 31,
     "metadata": {},
     "output_type": "execute_result"
    }
   ],
   "source": [
    "expenses_cost"
   ]
  },
  {
   "cell_type": "code",
   "execution_count": 33,
   "id": "658fa840-add4-406f-a8d4-825167636e6d",
   "metadata": {},
   "outputs": [
    {
     "data": {
      "text/plain": [
       "['Food', 'Transportation', 'Utilities', 'Liesure']"
      ]
     },
     "execution_count": 33,
     "metadata": {},
     "output_type": "execute_result"
    }
   ],
   "source": [
    "expenses_category"
   ]
  },
  {
   "cell_type": "code",
   "execution_count": 35,
   "id": "2a15bc7f-f566-4394-ac26-4be086bed7cf",
   "metadata": {},
   "outputs": [
    {
     "data": {
      "text/plain": [
       "[True, True, True, False]"
      ]
     },
     "execution_count": 35,
     "metadata": {},
     "output_type": "execute_result"
    }
   ],
   "source": [
    "is_essential"
   ]
  },
  {
   "cell_type": "code",
   "execution_count": 37,
   "id": "939aa809-ffbb-4498-8aea-c5007a3f4d97",
   "metadata": {},
   "outputs": [
    {
     "data": {
      "text/plain": [
       "['2025-08-02', '2025-08-03', '2025-08-03', '2025-08-04']"
      ]
     },
     "execution_count": 37,
     "metadata": {},
     "output_type": "execute_result"
    }
   ],
   "source": [
    "expenses_date"
   ]
  },
  {
   "cell_type": "code",
   "execution_count": 38,
   "id": "179d5642-8862-4daf-bbda-84ea8c867afd",
   "metadata": {},
   "outputs": [],
   "source": [
    "list_of_expenses = [\n",
    "    [\"Groceries\", \"Bus Fair\", \"Data Plan\", \"Cinema\"], \n",
    "    [5, 20, 50, 25 ], \n",
    "    [\"Food\", \"Transportation\", \"Utilities\", \"Liesure\"], \n",
    "    [True, True, True, False], \n",
    "    [\"2025-08-02\", \"2025-08-03\", \"2025-08-03\", \"2025-08-04\"]\n",
    "]"
   ]
  },
  {
   "cell_type": "code",
   "execution_count": 39,
   "id": "8384c5d1-c7db-4f98-91cb-86570cdb1a2f",
   "metadata": {},
   "outputs": [
    {
     "data": {
      "text/plain": [
       "[['Groceries', 'Bus Fair', 'Data Plan', 'Cinema'],\n",
       " [5, 20, 50, 25],\n",
       " ['Food', 'Transportation', 'Utilities', 'Liesure'],\n",
       " [True, True, True, False],\n",
       " ['2025-08-02', '2025-08-03', '2025-08-03', '2025-08-04']]"
      ]
     },
     "execution_count": 39,
     "metadata": {},
     "output_type": "execute_result"
    }
   ],
   "source": [
    "list_of_expenses"
   ]
  },
  {
   "cell_type": "code",
   "execution_count": null,
   "id": "17fc199f-1bb5-4a00-bb93-a484760c866f",
   "metadata": {},
   "outputs": [],
   "source": []
  },
  {
   "cell_type": "code",
   "execution_count": 40,
   "id": "98c27790-11b6-4ed2-9b50-1cb3d049ea71",
   "metadata": {},
   "outputs": [],
   "source": [
    "groceries = {\n",
    "    \"item\": \"Groceries\", \n",
    "    \"amount\": 5, \n",
    "    \"category\": \"Food\", \n",
    "    \"is_essential\": True, \n",
    "    \"date\": '2025-08-02'\n",
    "}"
   ]
  },
  {
   "cell_type": "code",
   "execution_count": 41,
   "id": "2e857848-91c0-4ae5-8294-b97a5d3a4168",
   "metadata": {},
   "outputs": [
    {
     "data": {
      "text/plain": [
       "{'item': 'Groceries',\n",
       " 'amount': 5,\n",
       " 'category': 'Food',\n",
       " 'is_essential': True,\n",
       " 'date': '2025-08-02'}"
      ]
     },
     "execution_count": 41,
     "metadata": {},
     "output_type": "execute_result"
    }
   ],
   "source": [
    "groceries"
   ]
  },
  {
   "cell_type": "code",
   "execution_count": null,
   "id": "e8fd8c2d-fd0e-422d-a21a-04fb42a7e4ca",
   "metadata": {},
   "outputs": [],
   "source": []
  },
  {
   "cell_type": "code",
   "execution_count": 50,
   "id": "772f305a-4116-4233-893a-a6f4f452dfed",
   "metadata": {},
   "outputs": [],
   "source": [
    "expenses = [\n",
    "    {'item': 'Groceries', \"amount\": 5, \"category\": \"Food\", \"is_essential\": True, \"date\": '2025-08-02'}, \n",
    "    {'item': 'Bus Fair', \"amount\": 20, \"category\": \"Transportation\", \"is_essential\": True, \"date\": '2025-08-03'}, \n",
    "    {'item': 'Data Plan', \"amount\": 50, \"category\": \"Utility\", \"is_essential\": True, \"date\": '2025-08-03'},\n",
    "    {'item': 'Cinema', \"amount\": 25, \"category\": \"Liesure\", \"is_essential\": False, \"date\": '2025-08-04'}\n",
    "]"
   ]
  },
  {
   "cell_type": "code",
   "execution_count": 51,
   "id": "640c8c77-cd3c-4381-be28-7f1134fc6d38",
   "metadata": {},
   "outputs": [
    {
     "data": {
      "text/plain": [
       "[{'item': 'Groceries',\n",
       "  'amount': 5,\n",
       "  'category': 'Food',\n",
       "  'is_essential': True,\n",
       "  'date': '2025-08-02'},\n",
       " {'item': 'Bus Fair',\n",
       "  'amount': 20,\n",
       "  'category': 'Transportation',\n",
       "  'is_essential': True,\n",
       "  'date': '2025-08-03'},\n",
       " {'item': 'Data Plan',\n",
       "  'amount': 50,\n",
       "  'category': 'Utility',\n",
       "  'is_essential': True,\n",
       "  'date': '2025-08-03'},\n",
       " {'item': 'Cinema',\n",
       "  'amount': 25,\n",
       "  'category': 'Liesure',\n",
       "  'is_essential': False,\n",
       "  'date': '2025-08-04'}]"
      ]
     },
     "execution_count": 51,
     "metadata": {},
     "output_type": "execute_result"
    }
   ],
   "source": [
    "expenses"
   ]
  },
  {
   "cell_type": "code",
   "execution_count": 52,
   "id": "0f1ccb9a-10ed-4496-9596-4bd843010edd",
   "metadata": {},
   "outputs": [
    {
     "name": "stdout",
     "output_type": "stream",
     "text": [
      "[{'item': 'Groceries', 'amount': 5, 'category': 'Food', 'is_essential': True, 'date': '2025-08-02'}, {'item': 'Bus Fair', 'amount': 20, 'category': 'Transportation', 'is_essential': True, 'date': '2025-08-03'}, {'item': 'Data Plan', 'amount': 50, 'category': 'Utility', 'is_essential': True, 'date': '2025-08-03'}, {'item': 'Cinema', 'amount': 25, 'category': 'Liesure', 'is_essential': False, 'date': '2025-08-04'}]\n"
     ]
    }
   ],
   "source": [
    "print(expenses)"
   ]
  },
  {
   "cell_type": "code",
   "execution_count": null,
   "id": "7ad56dcb-e9c9-4db7-8cf1-dc87d6092a24",
   "metadata": {},
   "outputs": [],
   "source": []
  },
  {
   "cell_type": "code",
   "execution_count": null,
   "id": "cb2cb175-edfa-419b-9224-4c54dc8b5831",
   "metadata": {},
   "outputs": [],
   "source": [
    "categories "
   ]
  },
  {
   "cell_type": "code",
   "execution_count": null,
   "id": "709fbfb5-cd48-4ee0-99aa-36307984e171",
   "metadata": {},
   "outputs": [],
   "source": []
  },
  {
   "cell_type": "code",
   "execution_count": null,
   "id": "a0713df0-c34c-414e-962c-53e81966a10c",
   "metadata": {},
   "outputs": [],
   "source": [
    "\n"
   ]
  },
  {
   "cell_type": "code",
   "execution_count": 56,
   "id": "ea9a31b2-7733-4fea-8565-d69add1861b9",
   "metadata": {},
   "outputs": [],
   "source": [
    "total_spent = (\n",
    "    expenses[0][\"amount\"] +\n",
    "    expenses[1][\"amount\"] +\n",
    "    expenses[2][\"amount\"] +\n",
    "    expenses[3][\"amount\"]\n",
    ")"
   ]
  },
  {
   "cell_type": "code",
   "execution_count": 57,
   "id": "4820c806-dce3-4a12-8b20-7baba9444510",
   "metadata": {},
   "outputs": [
    {
     "data": {
      "text/plain": [
       "100"
      ]
     },
     "execution_count": 57,
     "metadata": {},
     "output_type": "execute_result"
    }
   ],
   "source": [
    "total_spent"
   ]
  },
  {
   "cell_type": "code",
   "execution_count": 58,
   "id": "3f47063a-90aa-4ddb-9071-a376a1d78283",
   "metadata": {},
   "outputs": [],
   "source": [
    "remaining_balance = starting_balance - total_spent"
   ]
  },
  {
   "cell_type": "code",
   "execution_count": 59,
   "id": "e31412ef-26c2-41a2-9f7a-08e74ffb896c",
   "metadata": {},
   "outputs": [
    {
     "data": {
      "text/plain": [
       "400"
      ]
     },
     "execution_count": 59,
     "metadata": {},
     "output_type": "execute_result"
    }
   ],
   "source": [
    "remaining_balance"
   ]
  },
  {
   "cell_type": "code",
   "execution_count": 64,
   "id": "3fccf5e0-4d97-46c6-ab15-dec653eac450",
   "metadata": {},
   "outputs": [
    {
     "name": "stdout",
     "output_type": "stream",
     "text": [
      "==================================================\n",
      "PERSONAL EXPENSE DASHBOARD\n",
      "==================================================\n",
      "Owner:          Ayisha\n",
      "Period:         2025-08-1 to 2025-08-31\n",
      "Currency:       $\n",
      "Starting Bal.:  500.00 $\n",
      "--------------------------------------------------\n",
      "Total Spent:    100.00 $\n",
      "Remaining Bal.: 400.00 $\n",
      "--------------------------------------------------\n",
      "Transactions:   4\n",
      "==================================================\n"
     ]
    }
   ],
   "source": [
    "print(\"=\" * 50)\n",
    "print(\"PERSONAL EXPENSE DASHBOARD\")\n",
    "print(\"=\" * 50)\n",
    "print(f\"Owner:          {owner}\")\n",
    "print(f\"Period:         {account_date[0]} to {account_date[1]}\")\n",
    "print(f\"Currency:       {currency}\")\n",
    "print(f\"Starting Bal.:  {starting_balance:,.2f} {currency}\")\n",
    "print(\"-\" * 50)\n",
    "print(f\"Total Spent:    {total_spent:,.2f} {currency}\")\n",
    "print(f\"Remaining Bal.: {remaining_balance:,.2f} {currency}\")\n",
    "print(\"-\" * 50)\n",
    "# print(\"Categories:\", \", \".join(categories))\n",
    "print(f\"Transactions:   {len(expenses)}\")\n",
    "print(\"=\" * 50)\n"
   ]
  },
  {
   "cell_type": "code",
   "execution_count": null,
   "id": "71f46c25-0229-4f2c-a3cc-c10cd6a557aa",
   "metadata": {},
   "outputs": [],
   "source": []
  },
  {
   "cell_type": "markdown",
   "id": "92aacb9d-c4c4-4153-a5db-44037326af82",
   "metadata": {},
   "source": [
    "# Personal Expense Tracker (Beginner Project)\n",
    "\n",
    "This is a beginner-friendly Python project designed to introduce **variables, data types, and data structures** in a practical way.  \n",
    "Instead of learning concepts in isolation, you’ll build a simple **Personal Expense Tracker** that records expenses and prints a clean dashboard.\n",
    "\n",
    "---\n",
    "\n",
    "## 📘 Concepts Covered\n",
    "- **Variables**: storing data like names, balances, and currency  \n",
    "- **Data Types**: strings, integers, floats, booleans  \n",
    "- **Data Structures**:  \n",
    "  - **Tuple** → to store fixed metadata (date range)  \n",
    "  - **List** → to hold multiple expense records  \n",
    "  - **Dictionary** → to describe each expense (item, amount, category, date, etc.)  \n",
    "  - **Set** → to keep track of unique categories  \n",
    "\n",
    "---\n",
    "\n",
    "## 🖥️ Features\n",
    "- Add expenses to a list  \n",
    "- Track spending in different categories  \n",
    "- Calculate total and remaining balance  \n",
    "- Display everything as a simple text-based dashboard  \n",
    "\n",
    "---\n",
    "\n",
    "## 🚀 How to Run\n",
    "1. Clone this repository:\n",
    "   ```bash\n",
    "   git clone https://github.com/<your-username>/personal-expense-tracker.git\n"
   ]
  },
  {
   "cell_type": "code",
   "execution_count": null,
   "id": "2b7c55cb-11d3-4b16-809c-63204fb0b2d9",
   "metadata": {},
   "outputs": [],
   "source": []
  },
  {
   "cell_type": "code",
   "execution_count": null,
   "id": "e1bbdfa0-529e-4e8f-979a-14c2584d8971",
   "metadata": {},
   "outputs": [],
   "source": []
  }
 ],
 "metadata": {
  "kernelspec": {
   "display_name": "Python 3 (ipykernel)",
   "language": "python",
   "name": "python3"
  },
  "language_info": {
   "codemirror_mode": {
    "name": "ipython",
    "version": 3
   },
   "file_extension": ".py",
   "mimetype": "text/x-python",
   "name": "python",
   "nbconvert_exporter": "python",
   "pygments_lexer": "ipython3",
   "version": "3.11.11"
  }
 },
 "nbformat": 4,
 "nbformat_minor": 5
}
